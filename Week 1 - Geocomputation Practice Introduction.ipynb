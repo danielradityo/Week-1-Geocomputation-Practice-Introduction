{
 "cells": [
  {
   "cell_type": "markdown",
   "id": "8f1a20e6",
   "metadata": {},
   "source": [
    "# Latihan membuat Header Markdown"
   ]
  },
  {
   "cell_type": "code",
   "execution_count": 67,
   "id": "f2cea9af",
   "metadata": {},
   "outputs": [],
   "source": [
    "#### Ini adalah komentar menggunakan hastag #"
   ]
  },
  {
   "cell_type": "code",
   "execution_count": 9,
   "id": "50e1d523",
   "metadata": {},
   "outputs": [
    {
     "name": "stdout",
     "output_type": "stream",
     "text": [
      "Hello World\n"
     ]
    }
   ],
   "source": [
    "print('Hello World')"
   ]
  },
  {
   "cell_type": "code",
   "execution_count": 10,
   "id": "df021eb7",
   "metadata": {},
   "outputs": [
    {
     "name": "stdout",
     "output_type": "stream",
     "text": [
      "Hello World\n"
     ]
    }
   ],
   "source": [
    "print(\"Hello World\")"
   ]
  },
  {
   "cell_type": "code",
   "execution_count": 12,
   "id": "97f1b8c1",
   "metadata": {},
   "outputs": [
    {
     "name": "stdout",
     "output_type": "stream",
     "text": [
      "I'm Superman\n"
     ]
    }
   ],
   "source": [
    "print(\"I'm Superman\")"
   ]
  },
  {
   "cell_type": "code",
   "execution_count": 14,
   "id": "c22c13e4",
   "metadata": {},
   "outputs": [
    {
     "name": "stdout",
     "output_type": "stream",
     "text": [
      "Multy berkata: \"Saya lapar Bang!\n"
     ]
    }
   ],
   "source": [
    "print('Multy berkata: \"Saya lapar Bang!')"
   ]
  },
  {
   "cell_type": "markdown",
   "id": "ca9a25bd",
   "metadata": {},
   "source": [
    "# Materi Variabel"
   ]
  },
  {
   "cell_type": "markdown",
   "id": "2806f2c1",
   "metadata": {},
   "source": [
    "### Cara mengisi variabel dan tau tipe data"
   ]
  },
  {
   "cell_type": "markdown",
   "id": "a09b415f",
   "metadata": {},
   "source": [
    "#### Tipe data String"
   ]
  },
  {
   "cell_type": "code",
   "execution_count": 54,
   "id": "da546fe3",
   "metadata": {},
   "outputs": [
    {
     "name": "stdout",
     "output_type": "stream",
     "text": [
      "Isi dari variabel a adalah: Yusril \n",
      "Jenis tipe data dari a adalah: <class 'str'>\n"
     ]
    }
   ],
   "source": [
    "a = 'Yusril'\n",
    "print('Isi dari variabel a adalah:', a, '\\nJenis tipe data dari a adalah:', type(a))"
   ]
  },
  {
   "cell_type": "markdown",
   "id": "6fa927eb",
   "metadata": {},
   "source": [
    "#### Tipe data Integer"
   ]
  },
  {
   "cell_type": "code",
   "execution_count": 27,
   "id": "69e59b13",
   "metadata": {},
   "outputs": [
    {
     "name": "stdout",
     "output_type": "stream",
     "text": [
      "Isi dari variabel b adalah: 15 \n",
      "Jenis tipe data dari b adalah: <class 'int'>\n"
     ]
    }
   ],
   "source": [
    "b = 15\n",
    "print('Isi dari variabel b adalah:', b, '\\nJenis tipe data dari b adalah:', type(b))"
   ]
  },
  {
   "cell_type": "markdown",
   "id": "acef16ec",
   "metadata": {},
   "source": [
    "Tipe data Float"
   ]
  },
  {
   "cell_type": "code",
   "execution_count": 33,
   "id": "2ef92fe4",
   "metadata": {},
   "outputs": [
    {
     "name": "stdout",
     "output_type": "stream",
     "text": [
      "Isi dari variabel c adalah: 27.9 \n",
      "Jenis tipe data dari c adalah: <class 'float'>\n"
     ]
    }
   ],
   "source": [
    "c = 27.9\n",
    "print('Isi dari variabel c adalah:', c, '\\nJenis tipe data dari c adalah:', type(c))"
   ]
  },
  {
   "cell_type": "markdown",
   "id": "1e45ab8c",
   "metadata": {},
   "source": [
    "Tipe data Boolean"
   ]
  },
  {
   "cell_type": "code",
   "execution_count": 37,
   "id": "88bd8c7b",
   "metadata": {},
   "outputs": [
    {
     "name": "stdout",
     "output_type": "stream",
     "text": [
      "Isi dari variabel d adalah: True \n",
      "Jenis tipe data dari d adalah: <class 'bool'>\n"
     ]
    }
   ],
   "source": [
    "d = True\n",
    "print('Isi dari variabel d adalah:', d, '\\nJenis tipe data dari d adalah:', type(d))"
   ]
  },
  {
   "cell_type": "code",
   "execution_count": 41,
   "id": "512ef8fd",
   "metadata": {},
   "outputs": [
    {
     "data": {
      "text/plain": [
       "False"
      ]
     },
     "execution_count": 41,
     "metadata": {},
     "output_type": "execute_result"
    }
   ],
   "source": [
    "e = 42.9"
   ]
  },
  {
   "cell_type": "code",
   "execution_count": 42,
   "id": "3052cb9e",
   "metadata": {},
   "outputs": [
    {
     "data": {
      "text/plain": [
       "True"
      ]
     },
     "execution_count": 42,
     "metadata": {},
     "output_type": "execute_result"
    }
   ],
   "source": [
    "b + c == e"
   ]
  },
  {
   "cell_type": "code",
   "execution_count": 43,
   "id": "a5e2f288",
   "metadata": {},
   "outputs": [
    {
     "data": {
      "text/plain": [
       "False"
      ]
     },
     "execution_count": 43,
     "metadata": {},
     "output_type": "execute_result"
    }
   ],
   "source": [
    "b - c == e"
   ]
  },
  {
   "cell_type": "markdown",
   "id": "d0506447",
   "metadata": {},
   "source": [
    "# Tugas 1"
   ]
  },
  {
   "cell_type": "markdown",
   "id": "42cacc75",
   "metadata": {},
   "source": [
    "## Nomor 1"
   ]
  },
  {
   "cell_type": "markdown",
   "id": "23123114",
   "metadata": {},
   "source": [
    "1. Gunakan perintah tipe data string untuk menampilkan output/console sebagai berikut\n",
    "SELAMAT ULANG TAHUN\n",
    "(NAMA PANJANG PRAKTIKAN)\n",
    "SEMOGA LULUS PRAKTIKUM GEOKOMPUTASI"
   ]
  },
  {
   "cell_type": "code",
   "execution_count": 50,
   "id": "58149beb",
   "metadata": {},
   "outputs": [
    {
     "name": "stdout",
     "output_type": "stream",
     "text": [
      "Selamat ulang tahun\n",
      "Rifqi Andi Naufal\n",
      "Semoga Lulus Praktikum Geokomputasi\n"
     ]
    }
   ],
   "source": [
    "print('Selamat ulang tahun')\n",
    "print('Rifqi Andi Naufal')\n",
    "print('Semoga Lulus Praktikum Geokomputasi')"
   ]
  },
  {
   "cell_type": "markdown",
   "id": "caf2d230",
   "metadata": {},
   "source": [
    "## Nomor 2"
   ]
  },
  {
   "cell_type": "markdown",
   "id": "bae400cb",
   "metadata": {},
   "source": [
    "2. Buatlah sistem aritmatika menggunakan console in/cin dengan ketentuan sebagai berikut,\n",
    "a = 1AA. A adalah dua (2) nomor NIM terakhir,\n",
    "contoh 15117001 maka a = 101\n",
    "15117067 maka a = 167\n",
    "15117109 maka a = 109\n",
    "b = 57"
   ]
  },
  {
   "cell_type": "code",
   "execution_count": 56,
   "id": "4770ab49",
   "metadata": {},
   "outputs": [],
   "source": [
    "a = 164\n",
    "b = 57"
   ]
  },
  {
   "cell_type": "code",
   "execution_count": 57,
   "id": "2bb5b077",
   "metadata": {},
   "outputs": [
    {
     "data": {
      "text/plain": [
       "164"
      ]
     },
     "execution_count": 57,
     "metadata": {},
     "output_type": "execute_result"
    }
   ],
   "source": [
    "a"
   ]
  },
  {
   "cell_type": "code",
   "execution_count": 58,
   "id": "6e2f6870",
   "metadata": {},
   "outputs": [
    {
     "data": {
      "text/plain": [
       "57"
      ]
     },
     "execution_count": 58,
     "metadata": {},
     "output_type": "execute_result"
    }
   ],
   "source": [
    "b"
   ]
  },
  {
   "cell_type": "markdown",
   "id": "a579f1f2",
   "metadata": {},
   "source": [
    "## Nomor 3"
   ]
  },
  {
   "cell_type": "markdown",
   "id": "c3469443",
   "metadata": {},
   "source": [
    "3. Buatlah sistem aritmatika berikut,\n",
    "\n",
    "a. Penjumlahan (a + b)\n",
    "\n",
    "b. Pengurangan (a - b)\n",
    "\n",
    "c. Perkalian (a * b)\n",
    "\n",
    "d. Pembagian (a / b)\n",
    "\n",
    "*Note: Untuk pembagian, hasil operasinya harus berupa desimal"
   ]
  },
  {
   "cell_type": "code",
   "execution_count": 66,
   "id": "bfcc4d00",
   "metadata": {},
   "outputs": [
    {
     "name": "stdout",
     "output_type": "stream",
     "text": [
      "a. Hasil Penjumlahan a + b = 221 Type Datanya adalah: <class 'int'>\n",
      "b. Hasil Pengurangan a - b = 107 Type Datanya adalah: <class 'int'>\n",
      "c. Hasil Perkalian a * b = 9348 Type Datanya adalah: <class 'int'>\n",
      "d. Hasil Pembagian a / b = 2.8771929824561404 Type Datanya adalah: <class 'float'>\n"
     ]
    }
   ],
   "source": [
    "# Penjumlahan a + b\n",
    "print('a. Hasil Penjumlahan a + b =', a + b, 'Type Datanya adalah:', type(a + b))\n",
    "\n",
    "# Pengurangan a - b\n",
    "print('b. Hasil Pengurangan a - b =', a - b, 'Type Datanya adalah:', type(a - b))\n",
    "\n",
    "# Penjumlahan a * b\n",
    "print('c. Hasil Perkalian a * b =', a * b, 'Type Datanya adalah:', type(a * b))\n",
    "\n",
    "# Pengurangan a / b\n",
    "print('d. Hasil Pembagian a / b =', a / b, 'Type Datanya adalah:', type(a / b))"
   ]
  },
  {
   "cell_type": "code",
   "execution_count": null,
   "id": "6ea647c9",
   "metadata": {},
   "outputs": [],
   "source": []
  }
 ],
 "metadata": {
  "kernelspec": {
   "display_name": "Python 3",
   "language": "python",
   "name": "python3"
  },
  "language_info": {
   "codemirror_mode": {
    "name": "ipython",
    "version": 3
   },
   "file_extension": ".py",
   "mimetype": "text/x-python",
   "name": "python",
   "nbconvert_exporter": "python",
   "pygments_lexer": "ipython3",
   "version": "3.8.8"
  }
 },
 "nbformat": 4,
 "nbformat_minor": 5
}
